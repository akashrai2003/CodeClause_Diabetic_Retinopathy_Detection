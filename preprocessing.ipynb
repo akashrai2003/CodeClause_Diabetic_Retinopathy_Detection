{
 "cells": [
  {
   "cell_type": "code",
   "execution_count": 1,
   "id": "a91998e1",
   "metadata": {},
   "outputs": [],
   "source": [
    "import pandas as pd\n",
    "import numpy as np\n",
    "from keras.preprocessing.image import ImageDataGenerator\n",
    "import os\n",
    "import shutil\n",
    "from sklearn.model_selection import train_test_split"
   ]
  },
  {
   "cell_type": "code",
   "execution_count": 2,
   "id": "79fcbc2d",
   "metadata": {},
   "outputs": [
    {
     "data": {
      "text/html": [
       "<div>\n",
       "<style scoped>\n",
       "    .dataframe tbody tr th:only-of-type {\n",
       "        vertical-align: middle;\n",
       "    }\n",
       "\n",
       "    .dataframe tbody tr th {\n",
       "        vertical-align: top;\n",
       "    }\n",
       "\n",
       "    .dataframe thead th {\n",
       "        text-align: right;\n",
       "    }\n",
       "</style>\n",
       "<table border=\"1\" class=\"dataframe\">\n",
       "  <thead>\n",
       "    <tr style=\"text-align: right;\">\n",
       "      <th></th>\n",
       "      <th>image</th>\n",
       "      <th>level</th>\n",
       "    </tr>\n",
       "  </thead>\n",
       "  <tbody>\n",
       "    <tr>\n",
       "      <th>0</th>\n",
       "      <td>10_left</td>\n",
       "      <td>0</td>\n",
       "    </tr>\n",
       "    <tr>\n",
       "      <th>1</th>\n",
       "      <td>10_right</td>\n",
       "      <td>0</td>\n",
       "    </tr>\n",
       "    <tr>\n",
       "      <th>2</th>\n",
       "      <td>13_left</td>\n",
       "      <td>0</td>\n",
       "    </tr>\n",
       "    <tr>\n",
       "      <th>3</th>\n",
       "      <td>13_right</td>\n",
       "      <td>0</td>\n",
       "    </tr>\n",
       "    <tr>\n",
       "      <th>4</th>\n",
       "      <td>15_left</td>\n",
       "      <td>1</td>\n",
       "    </tr>\n",
       "  </tbody>\n",
       "</table>\n",
       "</div>"
      ],
      "text/plain": [
       "      image  level\n",
       "0   10_left      0\n",
       "1  10_right      0\n",
       "2   13_left      0\n",
       "3  13_right      0\n",
       "4   15_left      1"
      ]
     },
     "execution_count": 2,
     "metadata": {},
     "output_type": "execute_result"
    }
   ],
   "source": [
    "df=pd.read_csv('trainLabels.csv')\n",
    "df.head()"
   ]
  },
  {
   "cell_type": "code",
   "execution_count": 3,
   "id": "02d1db33",
   "metadata": {},
   "outputs": [],
   "source": [
    "base_dir='base_dir'\n",
    "os.mkdir(base_dir)\n",
    "\n",
    "train_dir=os.path.join(base_dir,'train_dir')\n",
    "os.mkdir(train_dir)\n",
    "\n",
    "val_dir=os.path.join(base_dir,'val_dir')\n",
    "os.mkdir(val_dir)"
   ]
  },
  {
   "cell_type": "markdown",
   "id": "33edbdc2",
   "metadata": {},
   "source": [
    "From the csv file we get to know that there are 5 levels of DR casesthus we are making 5 different directories to store images of each cases or levels"
   ]
  },
  {
   "cell_type": "code",
   "execution_count": 6,
   "id": "71e4dab7",
   "metadata": {},
   "outputs": [],
   "source": [
    "Normal=os.path.join(train_dir,'0')\n",
    "os.mkdir(Normal)\n",
    "Mild_NPDR=os.path.join(train_dir,'1')\n",
    "os.mkdir(Mild_NPDR)\n",
    "Moderate_NPDR=os.path.join(train_dir,'2')\n",
    "os.mkdir(Moderate_NPDR)\n",
    "Severe_NPDR=os.path.join(train_dir,'3')\n",
    "os.mkdir(Severe_NPDR)\n",
    "PDR=os.path.join(train_dir,'4')\n",
    "os.mkdir(PDR)"
   ]
  },
  {
   "cell_type": "code",
   "execution_count": 7,
   "id": "c7126c8c",
   "metadata": {},
   "outputs": [],
   "source": [
    "Normal=os.path.join(val_dir,'0')\n",
    "os.mkdir(Normal)\n",
    "Mild_NPDR=os.path.join(val_dir,'1')\n",
    "os.mkdir(Mild_NPDR)\n",
    "Moderate_NPDR=os.path.join(val_dir,'2')\n",
    "os.mkdir(Moderate_NPDR)\n",
    "Severe_NPDR=os.path.join(val_dir,'3')\n",
    "os.mkdir(Severe_NPDR)\n",
    "PDR=os.path.join(val_dir,'4')\n",
    "os.mkdir(PDR)"
   ]
  },
  {
   "cell_type": "code",
   "execution_count": 9,
   "id": "9d58f09d",
   "metadata": {},
   "outputs": [],
   "source": [
    "y=df['level']"
   ]
  },
  {
   "cell_type": "code",
   "execution_count": 10,
   "id": "7f7a1868",
   "metadata": {},
   "outputs": [],
   "source": [
    "df_train,df_val=train_test_split(df,test_size=0.1,random_state=101,stratify=y)"
   ]
  },
  {
   "cell_type": "code",
   "execution_count": 11,
   "id": "8b380e2d",
   "metadata": {},
   "outputs": [
    {
     "name": "stdout",
     "output_type": "stream",
     "text": [
      "(31597, 2)\n",
      "(3511, 2)\n"
     ]
    }
   ],
   "source": [
    "print(df_train.shape)\n",
    "print(df_val.shape)"
   ]
  },
  {
   "cell_type": "code",
   "execution_count": 12,
   "id": "e0532a74",
   "metadata": {},
   "outputs": [
    {
     "data": {
      "text/plain": [
       "0    23222\n",
       "2     4759\n",
       "1     2194\n",
       "3      785\n",
       "4      637\n",
       "Name: level, dtype: int64"
      ]
     },
     "execution_count": 12,
     "metadata": {},
     "output_type": "execute_result"
    }
   ],
   "source": [
    "df_train['level'].value_counts()"
   ]
  },
  {
   "cell_type": "code",
   "execution_count": 13,
   "id": "b5c7f1e9",
   "metadata": {},
   "outputs": [
    {
     "data": {
      "text/plain": [
       "0    2580\n",
       "2     529\n",
       "1     244\n",
       "3      87\n",
       "4      71\n",
       "Name: level, dtype: int64"
      ]
     },
     "execution_count": 13,
     "metadata": {},
     "output_type": "execute_result"
    }
   ],
   "source": [
    "df_val['level'].value_counts()"
   ]
  },
  {
   "cell_type": "code",
   "execution_count": 14,
   "id": "41341329",
   "metadata": {},
   "outputs": [],
   "source": [
    "df.set_index('image',inplace=True)"
   ]
  },
  {
   "cell_type": "code",
   "execution_count": 15,
   "id": "560e96fa",
   "metadata": {},
   "outputs": [],
   "source": [
    "fol_1=os.listdir('./eyepacs_preprocess')"
   ]
  },
  {
   "cell_type": "code",
   "execution_count": 16,
   "id": "070b2c5e",
   "metadata": {},
   "outputs": [],
   "source": [
    "TRAIN_LIST=list(df_train['image'])\n",
    "VAL_LIST=list(df_val['image'])"
   ]
  },
  {
   "cell_type": "code",
   "execution_count": 17,
   "id": "c01f1b3d",
   "metadata": {},
   "outputs": [],
   "source": [
    "for image in TRAIN_LIST:\n",
    "    fname=image+'.jpeg'\n",
    "    labels=df.loc[image,'level']\n",
    "    \n",
    "    if fname in fol_1:\n",
    "        #we are making src and dst files to copy from our dataset into seaprate directories\n",
    "        src=os.path.join('./eyepacs_preprocess',fname)\n",
    "        dst=os.path.join(train_dir,str(labels),fname)\n",
    "        shutil.copyfile(src,dst)"
   ]
  },
  {
   "cell_type": "code",
   "execution_count": 18,
   "id": "179fe065",
   "metadata": {},
   "outputs": [],
   "source": [
    "for image in VAL_LIST:\n",
    "    fname=image+'.jpeg'\n",
    "    labels=df.loc[image,'level']\n",
    "    \n",
    "    if fname in fol_1:\n",
    "        #we are making src and dst files to copy from our dataset into seaprate directories\n",
    "        src=os.path.join('./eyepacs_preprocess',fname)\n",
    "        dst=os.path.join(val_dir,str(labels),fname)\n",
    "        shutil.copyfile(src,dst)"
   ]
  },
  {
   "cell_type": "code",
   "execution_count": 19,
   "id": "57ecdd6c",
   "metadata": {},
   "outputs": [
    {
     "name": "stdout",
     "output_type": "stream",
     "text": [
      "23222\n",
      "2194\n",
      "4759\n",
      "785\n",
      "637\n",
      "2580\n",
      "244\n",
      "529\n",
      "87\n",
      "71\n"
     ]
    }
   ],
   "source": [
    "# This should be same as df_train['level'].value_counts()\n",
    "\n",
    "print(len(os.listdir('base_dir/_dir/train_dir/0')))\n",
    "print(len(os.listdir('base_dir/train_dir/1')))\n",
    "print(len(os.listdir('base_dir/train_dir/2')))\n",
    "print(len(os.listdir('base_dir/train_dir/3')))\n",
    "print(len(os.listdir('base_dir/train_dir/4')))\n",
    "\n",
    "\n",
    "print(len(os.listdir('base_dir/val_dir/0')))\n",
    "print(len(os.listdir('base_dir/val_dir/1')))\n",
    "print(len(os.listdir('base_dir/val_dir/2')))\n",
    "print(len(os.listdir('base_dir/val_dir/3')))\n",
    "print(len(os.listdir('base_dir/val_dir/4')))"
   ]
  },
  {
   "cell_type": "markdown",
   "id": "160a3a76",
   "metadata": {},
   "source": [
    "### Data Augmentation"
   ]
  },
  {
   "cell_type": "code",
   "execution_count": 22,
   "id": "d3471663",
   "metadata": {},
   "outputs": [
    {
     "name": "stdout",
     "output_type": "stream",
     "text": [
      "Found 23222 images belonging to 1 classes.\n",
      "Found 2194 images belonging to 1 classes.\n",
      "Found 4759 images belonging to 1 classes.\n",
      "Found 785 images belonging to 1 classes.\n",
      "Found 637 images belonging to 1 classes.\n"
     ]
    }
   ],
   "source": [
    "classes=['0','1','2','3','4']\n",
    "for i in classes:\n",
    "    aug_dir='aug_dir'\n",
    "    os.mkdir(aug_dir)\n",
    "    \n",
    "    img_dir=os.path.join(aug_dir,'img_dir')\n",
    "    os.mkdir(img_dir)\n",
    "    \n",
    "    img_class=i\n",
    "    img_list=os.listdir('base_dir/train_dir/'+img_class)\n",
    "    \n",
    "    #copying images from train_dir to img_dir\n",
    "    for fname in img_list:\n",
    "        src=os.path.join('base_dir/train_dir/'+img_class,fname)\n",
    "        dst=os.path.join(img_dir,fname)\n",
    "        shutil.copyfile(src,dst)\n",
    "    \n",
    "    #pointing to a dir containing images and not directly the images\n",
    "    path=aug_dir\n",
    "    save_path='base_dir/train_dir/'+img_class\n",
    "    \n",
    "    datagen=ImageDataGenerator(\n",
    "        rotation_range=180,\n",
    "        width_shift_range=0.1,\n",
    "        height_shift_range=0.1,\n",
    "        zoom_range=0.1,\n",
    "        horizontal_flip=True,\n",
    "        vertical_flip=True,\n",
    "        fill_mode='nearest'\n",
    "    )\n",
    "    batch_size=50\n",
    "    aug_datagen=datagen.flow_from_directory(path,\n",
    "                                           save_to_dir=save_path,\n",
    "                                           save_format='jpeg',\n",
    "                                           target_size=(224,224),\n",
    "                                            batch_size=batch_size)\n",
    "    # We will limit the augmented images to 1000 per class/level\n",
    "    num_aug_wanted=1000\n",
    "    num_files=len(os.listdir(img_dir))\n",
    "    num_batches=int(np.ceil((num_aug_wanted-num_files)/batch_size))\n",
    "    \n",
    "    for i in range(0,num_batches):\n",
    "        imgs,label=next(aug_datagen)\n",
    "    \n",
    "    #removing the temporary directory\n",
    "    shutil.rmtree('aug_dir')"
   ]
  },
  {
   "cell_type": "code",
   "execution_count": 23,
   "id": "16c6876e",
   "metadata": {},
   "outputs": [
    {
     "name": "stdout",
     "output_type": "stream",
     "text": [
      "23222\n",
      "2194\n",
      "4759\n",
      "1035\n",
      "1037\n"
     ]
    }
   ],
   "source": [
    "print(len(os.listdir('base_dir/train_dir/0')))\n",
    "print(len(os.listdir('base_dir/train_dir/1')))\n",
    "print(len(os.listdir('base_dir/train_dir/2')))\n",
    "print(len(os.listdir('base_dir/train_dir/3')))\n",
    "print(len(os.listdir('base_dir/train_dir/4')))"
   ]
  },
  {
   "cell_type": "markdown",
   "id": "a939fa5f",
   "metadata": {},
   "source": [
    "## Preprocessing done using ImageDataGenerator"
   ]
  },
  {
   "cell_type": "code",
   "execution_count": null,
   "id": "221dcc53",
   "metadata": {},
   "outputs": [],
   "source": []
  }
 ],
 "metadata": {
  "kernelspec": {
   "display_name": "Python 3 (ipykernel)",
   "language": "python",
   "name": "python3"
  },
  "language_info": {
   "codemirror_mode": {
    "name": "ipython",
    "version": 3
   },
   "file_extension": ".py",
   "mimetype": "text/x-python",
   "name": "python",
   "nbconvert_exporter": "python",
   "pygments_lexer": "ipython3",
   "version": "3.10.9"
  }
 },
 "nbformat": 4,
 "nbformat_minor": 5
}
